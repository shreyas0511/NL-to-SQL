{
 "cells": [
  {
   "cell_type": "markdown",
   "id": "338c9f98",
   "metadata": {},
   "source": [
    "##### Setup the LLM"
   ]
  },
  {
   "cell_type": "code",
   "execution_count": 20,
   "id": "e12a8556",
   "metadata": {},
   "outputs": [],
   "source": [
    "import os\n",
    "from dotenv import load_dotenv\n",
    "from langchain_google_genai import ChatGoogleGenerativeAI\n",
    "\n",
    "load_dotenv(override=True)\n",
    "GOOGLE_API_KEY = os.getenv('GOOGLE_API_KEY')\n",
    "\n",
    "gemini_model = \"gemini-2.0-flash\"\n",
    "\n",
    "llm = ChatGoogleGenerativeAI(temperature=0.0, model=gemini_model)"
   ]
  },
  {
   "cell_type": "markdown",
   "id": "5ffc263c",
   "metadata": {},
   "source": [
    "##### Get path to the SQLite database and extract table info"
   ]
  },
  {
   "cell_type": "code",
   "execution_count": 6,
   "id": "952d3c0f",
   "metadata": {},
   "outputs": [
    {
     "name": "stdout",
     "output_type": "stream",
     "text": [
      "\n",
      "CREATE TABLE \"Album\" (\n",
      "\t\"AlbumId\" INTEGER NOT NULL, \n",
      "\t\"Title\" NVARCHAR(160) NOT NULL, \n",
      "\t\"ArtistId\" INTEGER NOT NULL, \n",
      "\tPRIMARY KEY (\"AlbumId\"), \n",
      "\tFOREIGN KEY(\"ArtistId\") REFERENCES \"Artist\" (\"ArtistId\")\n",
      ")\n",
      "\n",
      "/*\n",
      "3 rows from Album table:\n",
      "AlbumId\tTitle\tArtistId\n",
      "1\tFor Those About To Rock We Salute You\t1\n",
      "2\tBalls to the Wall\t2\n",
      "3\tRestless and Wild\t2\n",
      "*/\n",
      "\n",
      "\n",
      "CREATE TABLE \"Artist\" (\n",
      "\t\"ArtistId\" INTEGER NOT NULL, \n",
      "\t\"Name\" NVARCHAR(120), \n",
      "\tPRIMARY KEY (\"ArtistId\")\n",
      ")\n",
      "\n",
      "/*\n",
      "3 rows from Artist table:\n",
      "ArtistId\tName\n",
      "1\tAC/DC\n",
      "2\tAccept\n",
      "3\tAerosmith\n",
      "*/\n",
      "\n",
      "\n",
      "CREATE TABLE \"Customer\" (\n",
      "\t\"CustomerId\" INTEGER NOT NULL, \n",
      "\t\"FirstName\" NVARCHAR(40) NOT NULL, \n",
      "\t\"LastName\" NVARCHAR(20) NOT NULL, \n",
      "\t\"Company\" NVARCHAR(80), \n",
      "\t\"Address\" NVARCHAR(70), \n",
      "\t\"City\" NVARCHAR(40), \n",
      "\t\"State\" NVARCHAR(40), \n",
      "\t\"Country\" NVARCHAR(40), \n",
      "\t\"PostalCode\" NVARCHAR(10), \n",
      "\t\"Phone\" NVARCHAR(24), \n",
      "\t\"Fax\" NVARCHAR(24), \n",
      "\t\"Email\" NVARCHAR(60) NOT NULL, \n",
      "\t\"SupportRepId\" INTEGER, \n",
      "\tPRIMARY KEY (\"CustomerId\"), \n",
      "\tFOREIGN KEY(\"SupportRepId\") REFERENCES \"Employee\" (\"EmployeeId\")\n",
      ")\n",
      "\n",
      "/*\n",
      "3 rows from Customer table:\n",
      "CustomerId\tFirstName\tLastName\tCompany\tAddress\tCity\tState\tCountry\tPostalCode\tPhone\tFax\tEmail\tSupportRepId\n",
      "1\tLuís\tGonçalves\tEmbraer - Empresa Brasileira de Aeronáutica S.A.\tAv. Brigadeiro Faria Lima, 2170\tSão José dos Campos\tSP\tBrazil\t12227-000\t+55 (12) 3923-5555\t+55 (12) 3923-5566\tluisg@embraer.com.br\t3\n",
      "2\tLeonie\tKöhler\tNone\tTheodor-Heuss-Straße 34\tStuttgart\tNone\tGermany\t70174\t+49 0711 2842222\tNone\tleonekohler@surfeu.de\t5\n",
      "3\tFrançois\tTremblay\tNone\t1498 rue Bélanger\tMontréal\tQC\tCanada\tH2G 1A7\t+1 (514) 721-4711\tNone\tftremblay@gmail.com\t3\n",
      "*/\n",
      "\n",
      "\n",
      "CREATE TABLE \"Employee\" (\n",
      "\t\"EmployeeId\" INTEGER NOT NULL, \n",
      "\t\"LastName\" NVARCHAR(20) NOT NULL, \n",
      "\t\"FirstName\" NVARCHAR(20) NOT NULL, \n",
      "\t\"Title\" NVARCHAR(30), \n",
      "\t\"ReportsTo\" INTEGER, \n",
      "\t\"BirthDate\" DATETIME, \n",
      "\t\"HireDate\" DATETIME, \n",
      "\t\"Address\" NVARCHAR(70), \n",
      "\t\"City\" NVARCHAR(40), \n",
      "\t\"State\" NVARCHAR(40), \n",
      "\t\"Country\" NVARCHAR(40), \n",
      "\t\"PostalCode\" NVARCHAR(10), \n",
      "\t\"Phone\" NVARCHAR(24), \n",
      "\t\"Fax\" NVARCHAR(24), \n",
      "\t\"Email\" NVARCHAR(60), \n",
      "\tPRIMARY KEY (\"EmployeeId\"), \n",
      "\tFOREIGN KEY(\"ReportsTo\") REFERENCES \"Employee\" (\"EmployeeId\")\n",
      ")\n",
      "\n",
      "/*\n",
      "3 rows from Employee table:\n",
      "EmployeeId\tLastName\tFirstName\tTitle\tReportsTo\tBirthDate\tHireDate\tAddress\tCity\tState\tCountry\tPostalCode\tPhone\tFax\tEmail\n",
      "1\tAdams\tAndrew\tGeneral Manager\tNone\t1962-02-18 00:00:00\t2002-08-14 00:00:00\t11120 Jasper Ave NW\tEdmonton\tAB\tCanada\tT5K 2N1\t+1 (780) 428-9482\t+1 (780) 428-3457\tandrew@chinookcorp.com\n",
      "2\tEdwards\tNancy\tSales Manager\t1\t1958-12-08 00:00:00\t2002-05-01 00:00:00\t825 8 Ave SW\tCalgary\tAB\tCanada\tT2P 2T3\t+1 (403) 262-3443\t+1 (403) 262-3322\tnancy@chinookcorp.com\n",
      "3\tPeacock\tJane\tSales Support Agent\t2\t1973-08-29 00:00:00\t2002-04-01 00:00:00\t1111 6 Ave SW\tCalgary\tAB\tCanada\tT2P 5M5\t+1 (403) 262-3443\t+1 (403) 262-6712\tjane@chinookcorp.com\n",
      "*/\n",
      "\n",
      "\n",
      "CREATE TABLE \"Genre\" (\n",
      "\t\"GenreId\" INTEGER NOT NULL, \n",
      "\t\"Name\" NVARCHAR(120), \n",
      "\tPRIMARY KEY (\"GenreId\")\n",
      ")\n",
      "\n",
      "/*\n",
      "3 rows from Genre table:\n",
      "GenreId\tName\n",
      "1\tRock\n",
      "2\tJazz\n",
      "3\tMetal\n",
      "*/\n",
      "\n",
      "\n",
      "CREATE TABLE \"Invoice\" (\n",
      "\t\"InvoiceId\" INTEGER NOT NULL, \n",
      "\t\"CustomerId\" INTEGER NOT NULL, \n",
      "\t\"InvoiceDate\" DATETIME NOT NULL, \n",
      "\t\"BillingAddress\" NVARCHAR(70), \n",
      "\t\"BillingCity\" NVARCHAR(40), \n",
      "\t\"BillingState\" NVARCHAR(40), \n",
      "\t\"BillingCountry\" NVARCHAR(40), \n",
      "\t\"BillingPostalCode\" NVARCHAR(10), \n",
      "\t\"Total\" NUMERIC(10, 2) NOT NULL, \n",
      "\tPRIMARY KEY (\"InvoiceId\"), \n",
      "\tFOREIGN KEY(\"CustomerId\") REFERENCES \"Customer\" (\"CustomerId\")\n",
      ")\n",
      "\n",
      "/*\n",
      "3 rows from Invoice table:\n",
      "InvoiceId\tCustomerId\tInvoiceDate\tBillingAddress\tBillingCity\tBillingState\tBillingCountry\tBillingPostalCode\tTotal\n",
      "1\t2\t2021-01-01 00:00:00\tTheodor-Heuss-Straße 34\tStuttgart\tNone\tGermany\t70174\t1.98\n",
      "2\t4\t2021-01-02 00:00:00\tUllevålsveien 14\tOslo\tNone\tNorway\t0171\t3.96\n",
      "3\t8\t2021-01-03 00:00:00\tGrétrystraat 63\tBrussels\tNone\tBelgium\t1000\t5.94\n",
      "*/\n",
      "\n",
      "\n",
      "CREATE TABLE \"InvoiceLine\" (\n",
      "\t\"InvoiceLineId\" INTEGER NOT NULL, \n",
      "\t\"InvoiceId\" INTEGER NOT NULL, \n",
      "\t\"TrackId\" INTEGER NOT NULL, \n",
      "\t\"UnitPrice\" NUMERIC(10, 2) NOT NULL, \n",
      "\t\"Quantity\" INTEGER NOT NULL, \n",
      "\tPRIMARY KEY (\"InvoiceLineId\"), \n",
      "\tFOREIGN KEY(\"TrackId\") REFERENCES \"Track\" (\"TrackId\"), \n",
      "\tFOREIGN KEY(\"InvoiceId\") REFERENCES \"Invoice\" (\"InvoiceId\")\n",
      ")\n",
      "\n",
      "/*\n",
      "3 rows from InvoiceLine table:\n",
      "InvoiceLineId\tInvoiceId\tTrackId\tUnitPrice\tQuantity\n",
      "1\t1\t2\t0.99\t1\n",
      "2\t1\t4\t0.99\t1\n",
      "3\t2\t6\t0.99\t1\n",
      "*/\n",
      "\n",
      "\n",
      "CREATE TABLE \"MediaType\" (\n",
      "\t\"MediaTypeId\" INTEGER NOT NULL, \n",
      "\t\"Name\" NVARCHAR(120), \n",
      "\tPRIMARY KEY (\"MediaTypeId\")\n",
      ")\n",
      "\n",
      "/*\n",
      "3 rows from MediaType table:\n",
      "MediaTypeId\tName\n",
      "1\tMPEG audio file\n",
      "2\tProtected AAC audio file\n",
      "3\tProtected MPEG-4 video file\n",
      "*/\n",
      "\n",
      "\n",
      "CREATE TABLE \"Playlist\" (\n",
      "\t\"PlaylistId\" INTEGER NOT NULL, \n",
      "\t\"Name\" NVARCHAR(120), \n",
      "\tPRIMARY KEY (\"PlaylistId\")\n",
      ")\n",
      "\n",
      "/*\n",
      "3 rows from Playlist table:\n",
      "PlaylistId\tName\n",
      "1\tMusic\n",
      "2\tMovies\n",
      "3\tTV Shows\n",
      "*/\n",
      "\n",
      "\n",
      "CREATE TABLE \"PlaylistTrack\" (\n",
      "\t\"PlaylistId\" INTEGER NOT NULL, \n",
      "\t\"TrackId\" INTEGER NOT NULL, \n",
      "\tPRIMARY KEY (\"PlaylistId\", \"TrackId\"), \n",
      "\tFOREIGN KEY(\"TrackId\") REFERENCES \"Track\" (\"TrackId\"), \n",
      "\tFOREIGN KEY(\"PlaylistId\") REFERENCES \"Playlist\" (\"PlaylistId\")\n",
      ")\n",
      "\n",
      "/*\n",
      "3 rows from PlaylistTrack table:\n",
      "PlaylistId\tTrackId\n",
      "1\t3402\n",
      "1\t3389\n",
      "1\t3390\n",
      "*/\n",
      "\n",
      "\n",
      "CREATE TABLE \"Track\" (\n",
      "\t\"TrackId\" INTEGER NOT NULL, \n",
      "\t\"Name\" NVARCHAR(200) NOT NULL, \n",
      "\t\"AlbumId\" INTEGER, \n",
      "\t\"MediaTypeId\" INTEGER NOT NULL, \n",
      "\t\"GenreId\" INTEGER, \n",
      "\t\"Composer\" NVARCHAR(220), \n",
      "\t\"Milliseconds\" INTEGER NOT NULL, \n",
      "\t\"Bytes\" INTEGER, \n",
      "\t\"UnitPrice\" NUMERIC(10, 2) NOT NULL, \n",
      "\tPRIMARY KEY (\"TrackId\"), \n",
      "\tFOREIGN KEY(\"MediaTypeId\") REFERENCES \"MediaType\" (\"MediaTypeId\"), \n",
      "\tFOREIGN KEY(\"GenreId\") REFERENCES \"Genre\" (\"GenreId\"), \n",
      "\tFOREIGN KEY(\"AlbumId\") REFERENCES \"Album\" (\"AlbumId\")\n",
      ")\n",
      "\n",
      "/*\n",
      "3 rows from Track table:\n",
      "TrackId\tName\tAlbumId\tMediaTypeId\tGenreId\tComposer\tMilliseconds\tBytes\tUnitPrice\n",
      "1\tFor Those About To Rock (We Salute You)\t1\t1\t1\tAngus Young, Malcolm Young, Brian Johnson\t343719\t11170334\t0.99\n",
      "2\tBalls to the Wall\t2\t2\t1\tU. Dirkschneider, W. Hoffmann, H. Frank, P. Baltes, S. Kaufmann, G. Hoffmann\t342562\t5510424\t0.99\n",
      "3\tFast As a Shark\t3\t2\t1\tF. Baltes, S. Kaufman, U. Dirkscneider & W. Hoffman\t230619\t3990994\t0.99\n",
      "*/\n"
     ]
    }
   ],
   "source": [
    "from langchain_community.utilities import SQLDatabase\n",
    "import pandas as pd\n",
    "\n",
    "result_df: pd.DataFrame = None\n",
    "result_query: str = \"\"\n",
    "\n",
    "db = SQLDatabase.from_uri(\"sqlite:///Chinook_Sqlite.sqlite\")\n",
    "table_schema_info = db.get_table_info()\n",
    "print(table_schema_info)"
   ]
  },
  {
   "cell_type": "markdown",
   "id": "829295f5",
   "metadata": {},
   "source": [
    "##### Create a prompt template for the llm. Pass table_schema_info to the system prompt as an input variable"
   ]
  },
  {
   "cell_type": "code",
   "execution_count": 14,
   "id": "238b30c9",
   "metadata": {},
   "outputs": [],
   "source": [
    "from langchain_core.prompts import ChatPromptTemplate, MessagesPlaceholder\n",
    "\n",
    "# basic prompt first, will refine later\n",
    "prompt = ChatPromptTemplate.from_messages([\n",
    "    (\"system\", (\n",
    "        \"You are an expert SQL query generator assistant. \"\n",
    "        \"Given the following database schema: \"\n",
    "        \"{database_schema} \"\n",
    "        \"and a user query in natural language, \"\n",
    "        \"WRITE a valid SQL query (SQLite dialect) to answer the user's question.\"\n",
    "        \"Once you generate a valid SQL query, Use one of the tools provided to execute the query.\"\n",
    "        \"The output of the query execution will be provided back to you in the 'scratchpad' below. \"\n",
    "        \"If you have a valid answer in the scratchpad, you MUST use the final_answer tool \"\n",
    "        \"to provide the final answer back to the user. \"\n",
    "        \"In case the generated SQL query does not return a valid answer, an error message will be \"\n",
    "        \"provided back to you in the scratchpad. Use that error message to refine your query \"\n",
    "        \"and rerun the refined query using one of the tools provided. \"\n",
    "    )),\n",
    "    MessagesPlaceholder(variable_name=\"chat_history\"),\n",
    "    (\"human\", \"{input}\"),\n",
    "    MessagesPlaceholder(variable_name=\"agent_scratchpad\")\n",
    "])"
   ]
  },
  {
   "cell_type": "markdown",
   "id": "b801dd7f",
   "metadata": {},
   "source": [
    "##### Once prompt template is initialized, we can create a Runnable agent. But first, we need to define the tools that we want our agent to execute."
   ]
  },
  {
   "cell_type": "code",
   "execution_count": 17,
   "id": "9088433f",
   "metadata": {},
   "outputs": [],
   "source": [
    "from langchain_core.tools import tool, StructuredTool\n",
    "import pandas as pd\n",
    "\n",
    "\n",
    "@tool\n",
    "def execute_query(sql_query: str) -> str:\n",
    "    \"\"\" Execute the given 'sql_query' against our database \"\"\"\n",
    "    global result_df, result_query, db\n",
    "\n",
    "    try:\n",
    "        # result = db.run(sql_query)\n",
    "\n",
    "        # If query was executed successfully, store the execution result and the actual query\n",
    "        # if isinstance(result, list):\n",
    "        #     result_df = pd.DataFrame(result)\n",
    "        # else:\n",
    "        #     result_df = pd.DataFrame([{\"result\":result}])\n",
    "\n",
    "        with db._engine.connect() as conn:\n",
    "            result_df = pd.read_sql(sql_query, conn)\n",
    "\n",
    "        result_query = sql_query\n",
    "\n",
    "        # Now the summary text to be returned by the tool\n",
    "        num_rows = len(result_df)\n",
    "        result_df = result_df.head(10)\n",
    "        msg = f\"Successfully executed query, returned {num_rows} rows\"\n",
    "        return msg\n",
    "    except Exception as e:\n",
    "        return f\"Error executing query: {str(e)}\"\n",
    "\n",
    "@tool\n",
    "def final_answer(answer: str, tools_used: list[str]) -> dict[str|list[str | None]]:\n",
    "    \"\"\" Use this tool to provide a final answer to the user.\n",
    "    The answer should be in natural language as this will be provided\n",
    "    to the user directly. The tools_used must include a list of tool\n",
    "    names that were used within the `scratchpad`. \n",
    "    An example response on success is: \n",
    "    'answer': Successfully executed the query, returned x number of rows,\n",
    "    'tools_used': [execute_query]\n",
    "    \"\"\"\n",
    "    return {\"answer\":answer, \"tools_used\":tools_used}\n",
    "\n",
    "# Adding the tool decorator converts the tools into StructuredTool objects\n",
    "tools: list[StructuredTool] = [execute_query, final_answer]\n",
    "tool_func_map = {tool.name : tool.func  for tool in tools}"
   ]
  },
  {
   "cell_type": "markdown",
   "id": "4b352cca",
   "metadata": {},
   "source": [
    "##### Execute the tool to inspect the response"
   ]
  },
  {
   "cell_type": "code",
   "execution_count": 12,
   "id": "5fe95158",
   "metadata": {},
   "outputs": [
    {
     "name": "stdout",
     "output_type": "stream",
     "text": [
      "Error executing query: (sqlite3.OperationalError) no such table: Artists\n",
      "[SQL: SELECT * FROM Artists LIMIT 10;]\n",
      "(Background on this error at: https://sqlalche.me/e/20/e3q8)\n",
      "SELECT * FROM Artist LIMIT 10;\n",
      "   ArtistId                  Name\n",
      "0         1                 AC/DC\n",
      "1         2                Accept\n",
      "2         3             Aerosmith\n",
      "3         4     Alanis Morissette\n",
      "4         5       Alice In Chains\n",
      "5         6  Antônio Carlos Jobim\n",
      "6         7          Apocalyptica\n",
      "7         8            Audioslave\n",
      "8         9              BackBeat\n",
      "9        10          Billy Cobham\n"
     ]
    }
   ],
   "source": [
    "message = execute_query(\"SELECT * FROM Artists LIMIT 10;\")\n",
    "print(message)\n",
    "print(result_query)\n",
    "print(result_df)"
   ]
  },
  {
   "cell_type": "markdown",
   "id": "96c85c67",
   "metadata": {},
   "source": [
    "##### Now, we create our Runnable agent"
   ]
  },
  {
   "cell_type": "code",
   "execution_count": 29,
   "id": "a013dd27",
   "metadata": {},
   "outputs": [],
   "source": [
    "from langchain_core.runnables import RunnableSerializable\n",
    "\n",
    "agent: RunnableSerializable = (\n",
    "    {\n",
    "        \"database_schema\": lambda x: x[\"database_schema\"],\n",
    "        \"input\": lambda x: x[\"input\"],\n",
    "        \"chat_history\": lambda x: x[\"chat_history\"],\n",
    "        \"agent_scratchpad\": lambda x: x[\"agent_scratchpad\"]\n",
    "    }\n",
    "    | prompt\n",
    "    | llm.bind_tools(tools, tool_choice=\"any\")\n",
    ")"
   ]
  },
  {
   "cell_type": "markdown",
   "id": "8fbc28f7",
   "metadata": {},
   "source": [
    "Now, we invoke our agent"
   ]
  },
  {
   "cell_type": "code",
   "execution_count": 30,
   "id": "a75f066e",
   "metadata": {},
   "outputs": [
    {
     "name": "stdout",
     "output_type": "stream",
     "text": [
      "content='' additional_kwargs={'function_call': {'name': 'execute_query', 'arguments': '{\"sql_query\": \"SELECT A.Title, AR.Name FROM Album A INNER JOIN Artist AR ON A.ArtistId = AR.ArtistId LIMIT 5\"}'}} response_metadata={'prompt_feedback': {'block_reason': 0, 'safety_ratings': []}, 'finish_reason': 'STOP', 'model_name': 'gemini-2.0-flash', 'safety_ratings': []} id='run--56317d1c-8405-4d22-9a15-bf947f45ccf0-0' tool_calls=[{'name': 'execute_query', 'args': {'sql_query': 'SELECT A.Title, AR.Name FROM Album A INNER JOIN Artist AR ON A.ArtistId = AR.ArtistId LIMIT 5'}, 'id': '2f8827ea-9ee7-430e-9ccf-4053c8040508', 'type': 'tool_call'}] usage_metadata={'input_tokens': 2773, 'output_tokens': 34, 'total_tokens': 2807, 'input_token_details': {'cache_read': 0}}\n",
      "[{'name': 'execute_query', 'args': {'sql_query': 'SELECT A.Title, AR.Name FROM Album A INNER JOIN Artist AR ON A.ArtistId = AR.ArtistId LIMIT 5'}, 'id': '2f8827ea-9ee7-430e-9ccf-4053c8040508', 'type': 'tool_call'}]\n"
     ]
    }
   ],
   "source": [
    "tool_call = agent.invoke({\"database_schema\": table_schema_info,\n",
    "                          \"input\": \"Give me the top 5 albums per artist\",\n",
    "                          \"chat_history\": [],\n",
    "                          \"agent_scratchpad\": []})\n",
    "print(tool_call)\n",
    "print(tool_call.tool_calls)"
   ]
  },
  {
   "cell_type": "markdown",
   "id": "9c2b5738",
   "metadata": {},
   "source": [
    "Now, we have the name of the tool our llm wants to execute and the argument to pass to that tool as sql_qery. Now we execute the tool arguments from the tool name to function map we created earlier"
   ]
  },
  {
   "cell_type": "code",
   "execution_count": null,
   "id": "65a7037c",
   "metadata": {},
   "outputs": [
    {
     "name": "stdout",
     "output_type": "stream",
     "text": [
      "Successfully executed query, returned 5 rows\n"
     ]
    }
   ],
   "source": [
    "tool_execution_content = tool_func_map[tool_call.tool_calls[0][\"name\"]](\n",
    "    tool_call.tool_calls[0][\"args\"][\"sql_query\"]\n",
    ")\n",
    "print(tool_execution_content)"
   ]
  },
  {
   "cell_type": "markdown",
   "id": "f31ad584",
   "metadata": {},
   "source": [
    "This is our answer. Now we feed this output back to the LLM via agent scratchpad placeholder"
   ]
  },
  {
   "cell_type": "code",
   "execution_count": 32,
   "id": "beaf5a49",
   "metadata": {},
   "outputs": [
    {
     "name": "stdout",
     "output_type": "stream",
     "text": [
      "content='' additional_kwargs={'function_call': {'name': 'final_answer', 'arguments': '{\"tools_used\": [\"execute_query\"], \"answer\": \"Successfully executed the query, returned 5 rows\"}'}} response_metadata={'prompt_feedback': {'block_reason': 0, 'safety_ratings': []}, 'finish_reason': 'STOP', 'model_name': 'gemini-2.0-flash', 'safety_ratings': []} id='run--2f79c2ba-5819-458b-bc9a-6fb5664c1423-0' tool_calls=[{'name': 'final_answer', 'args': {'tools_used': ['execute_query'], 'answer': 'Successfully executed the query, returned 5 rows'}, 'id': '8bb108ec-9651-4fd4-a7ab-e928124b6117', 'type': 'tool_call'}] usage_metadata={'input_tokens': 2825, 'output_tokens': 19, 'total_tokens': 2844, 'input_token_details': {'cache_read': 0}}\n"
     ]
    }
   ],
   "source": [
    "from langchain_core.messages import ToolMessage\n",
    "\n",
    "tool_exec = ToolMessage(\n",
    "    content=f\"The {tool_call.tool_calls[0][\"name\"]} tool returned {tool_execution_content}\",\n",
    "    tool_call_id = tool_call.tool_calls[0][\"id\"]\n",
    ")\n",
    "\n",
    "output = agent.invoke({\"database_schema\": table_schema_info,\n",
    "                        \"input\": \"Give me the top 5 albums per artist\",\n",
    "                        \"chat_history\": [],\n",
    "                        \"agent_scratchpad\": [tool_call, tool_exec]}\n",
    ")\n",
    "print(output)"
   ]
  },
  {
   "cell_type": "markdown",
   "id": "daa3f8a0",
   "metadata": {},
   "source": [
    "Now, we have our final answer in the arguments field (content field is still empty because we force tool use so only tool call output will be returned). When we encounter a final answer tool call, we don't pass the response back to the agent and directly return the desired response to the user.\n",
    "\n",
    "Note: In this example, we got the output with the first query itself. In the case we got an error, we would pass it back to the agent through the agent scratchpad"
   ]
  },
  {
   "cell_type": "code",
   "execution_count": 33,
   "id": "7f5a5169",
   "metadata": {},
   "outputs": [
    {
     "name": "stdout",
     "output_type": "stream",
     "text": [
      "Successfully executed the query, returned 5 rows\n",
      "SELECT A.Title, AR.Name FROM Album A INNER JOIN Artist AR ON A.ArtistId = AR.ArtistId LIMIT 5\n",
      "                                   Title       Name\n",
      "0  For Those About To Rock We Salute You      AC/DC\n",
      "1                      Balls to the Wall     Accept\n",
      "2                      Restless and Wild     Accept\n",
      "3                      Let There Be Rock      AC/DC\n",
      "4                               Big Ones  Aerosmith\n"
     ]
    }
   ],
   "source": [
    "print(output.tool_calls[0][\"args\"][\"answer\"])\n",
    "print(result_query)\n",
    "print(result_df)"
   ]
  },
  {
   "cell_type": "markdown",
   "id": "5aeb2d3f",
   "metadata": {},
   "source": [
    "Perfect! Now that this works, we will build our custom agent executor, which will do these steps inside a loop"
   ]
  },
  {
   "cell_type": "code",
   "execution_count": 42,
   "id": "7c1d2411",
   "metadata": {},
   "outputs": [],
   "source": [
    "from langchain_core.messages import BaseMessage, HumanMessage, AIMessage\n",
    "import json\n",
    "\n",
    "class CustomAgentExecutor:\n",
    "    def __init__(self):\n",
    "        self.chat_history: list[BaseMessage] = []\n",
    "        self.max_iterations: int = 5\n",
    "        self.agent: RunnableSerializable = (\n",
    "            {\n",
    "                \"database_schema\": lambda x: x[\"database_schema\"],\n",
    "                \"input\": lambda x: x[\"input\"],\n",
    "                \"chat_history\": lambda x: x[\"chat_history\"],\n",
    "                \"agent_scratchpad\": lambda x: x[\"agent_scratchpad\"]\n",
    "            }\n",
    "            | prompt\n",
    "            | llm.bind_tools(tools, tool_choice=\"any\")\n",
    "        )\n",
    "\n",
    "    def invoke(self, database_schema: str, input: str):\n",
    "        # keep invoking the agent iteratively in a loop until we get the final answer\n",
    "        count = 0\n",
    "\n",
    "        # this is temporary storage for each agent execution loop, so we only define it here\n",
    "        agent_scratchpad = []\n",
    "\n",
    "        while count < self.max_iterations:\n",
    "            # invoke one iteration of the agent\n",
    "            tool_call = self.agent.invoke(\n",
    "                {\n",
    "                    \"database_schema\": database_schema,\n",
    "                    \"input\": input,\n",
    "                    \"chat_history\": self.chat_history,\n",
    "                    \"agent_scratchpad\": agent_scratchpad\n",
    "                }\n",
    "            )\n",
    "\n",
    "            # add initial tool call to the scratchpad\n",
    "            agent_scratchpad.append(tool_call)\n",
    "\n",
    "            # get the tool name and arguments\n",
    "            tool_name = tool_call.tool_calls[0][\"name\"]\n",
    "            tool_args = tool_call.tool_calls[0][\"args\"]\n",
    "\n",
    "            # now execute the tool and add output to the scratchpad\n",
    "            tool_execution_content = tool_func_map[tool_name](**tool_args)\n",
    "\n",
    "            tool_exec = ToolMessage(\n",
    "                content=f\"The {tool_name} tool returned {tool_execution_content}\",\n",
    "                tool_call_id = tool_call.tool_calls[0][\"id\"]\n",
    "            )\n",
    "            agent_scratchpad.append(tool_exec)\n",
    "\n",
    "            # check if the current tool is the final answer tool\n",
    "            if tool_name == \"final_answer\":\n",
    "                break\n",
    "        \n",
    "        final_answer = tool_execution_content\n",
    "        self.chat_history.extend([\n",
    "            HumanMessage(content=input),\n",
    "            AIMessage(content=str(final_answer))\n",
    "        ])\n",
    "\n",
    "        # return final answer in json format\n",
    "        return json.dumps(final_answer)\n",
    "            "
   ]
  },
  {
   "cell_type": "markdown",
   "id": "6c73e7af",
   "metadata": {},
   "source": [
    "Now, initialize and invoke the agent executor"
   ]
  },
  {
   "cell_type": "code",
   "execution_count": 43,
   "id": "177a14b3",
   "metadata": {},
   "outputs": [],
   "source": [
    "agent_executor = CustomAgentExecutor()"
   ]
  },
  {
   "cell_type": "code",
   "execution_count": 45,
   "id": "556c81cc",
   "metadata": {},
   "outputs": [
    {
     "data": {
      "text/plain": [
       "'{\"answer\": \"The top 5 artists by number of customers are:\\\\n\\\\nArtist Name | Number of Customers\\\\n---|---\\\\nQueen | 11\\\\nIron Maiden | 10\\\\nU2 | 10\\\\nMetallica | 9\\\\nLed Zeppelin | 8\", \"tools_used\": [\"execute_query\"]}'"
      ]
     },
     "execution_count": 45,
     "metadata": {},
     "output_type": "execute_result"
    }
   ],
   "source": [
    "agent_executor.invoke(database_schema=table_schema_info,\n",
    "                      input=\"Give me the top 5 customers per artist\")"
   ]
  },
  {
   "cell_type": "code",
   "execution_count": 46,
   "id": "0fb3a140",
   "metadata": {},
   "outputs": [
    {
     "name": "stdout",
     "output_type": "stream",
     "text": [
      "SELECT ar.Name, COUNT(DISTINCT c.CustomerId) AS NumberOfCustomers FROM Artist ar JOIN Album al ON ar.ArtistId = al.ArtistId JOIN Track t ON al.AlbumId = t.AlbumId JOIN InvoiceLine il ON t.TrackId = il.TrackId JOIN Invoice i ON il.InvoiceId = i.InvoiceId JOIN Customer c ON i.CustomerId = c.CustomerId GROUP BY ar.Name ORDER BY NumberOfCustomers DESC LIMIT 5\n",
      "                      Name  NumberOfCustomers\n",
      "0                       U2                 29\n",
      "1             Led Zeppelin                 28\n",
      "2                Metallica                 27\n",
      "3              Iron Maiden                 27\n",
      "4  Os Paralamas Do Sucesso                 16\n"
     ]
    }
   ],
   "source": [
    "print(result_query)\n",
    "print(result_df)"
   ]
  },
  {
   "cell_type": "code",
   "execution_count": null,
   "id": "57ae15d8",
   "metadata": {},
   "outputs": [],
   "source": [
    "agent_executor.invoke(database_schema=table_schema_info,\n",
    "                      input=\"Now, from these artists, show only german artists\")"
   ]
  },
  {
   "cell_type": "markdown",
   "id": "9968370e",
   "metadata": {},
   "source": [
    "Now that the basic version is running, let's add streaming + asyc to it\n",
    "\n",
    "* We need to add a configurable field for callback handler\n",
    "* Initialize our agent once again\n",
    "* An asyncio queue + QueueCallbackHandler\n",
    "\n",
    "We will inspect the output of the queue callback handler and create our agent executor logic for streaming accordingly"
   ]
  },
  {
   "cell_type": "code",
   "execution_count": 49,
   "id": "bf1604e6",
   "metadata": {},
   "outputs": [],
   "source": [
    "from langchain_core.runnables import ConfigurableField\n",
    "\n",
    "llm = ChatGoogleGenerativeAI(\n",
    "    temperature=0.0,\n",
    "    model=\"gemini-2.0-flash\",\n",
    "    streaming=True\n",
    ").configurable_fields(\n",
    "    callbacks=ConfigurableField(\n",
    "        id=\"callbacks\",\n",
    "        name=\"callbacks\",\n",
    "        description=\"A list of callbacks to use for streaming\"\n",
    "    )\n",
    ")"
   ]
  },
  {
   "cell_type": "code",
   "execution_count": 51,
   "id": "28471678",
   "metadata": {},
   "outputs": [],
   "source": [
    "agent: RunnableSerializable = (\n",
    "    {\n",
    "        \"database_schema\": lambda x: x[\"database_schema\"],\n",
    "        \"input\": lambda x: x[\"input\"],\n",
    "        \"chat_history\": lambda x: x[\"chat_history\"],\n",
    "        \"agent_scratchpad\": lambda x: x[\"agent_scratchpad\"]\n",
    "    }\n",
    "    | prompt\n",
    "    | llm.bind_tools(tools, tool_choice=\"any\")\n",
    ")"
   ]
  },
  {
   "cell_type": "code",
   "execution_count": 69,
   "id": "31f596a0",
   "metadata": {},
   "outputs": [],
   "source": [
    "import asyncio\n",
    "from langchain_core.callbacks import AsyncCallbackHandler\n",
    "\n",
    "class QueueCallbackHandler(AsyncCallbackHandler):\n",
    "    \"\"\" Callback handler that puts llm generated tokens into a queue\"\"\"\n",
    "\n",
    "    def __init__(self, queue: asyncio.Queue):\n",
    "        self.queue = queue\n",
    "        self.final_answer_seen = False\n",
    "\n",
    "    async def __aiter__(self):\n",
    "        while True:\n",
    "            if self.queue.empty():\n",
    "                await asyncio.sleep(0.1)\n",
    "                continue\n",
    "            token = self.queue.get()\n",
    "\n",
    "            if token == \"<<DONE>>\":\n",
    "                return\n",
    "            if token:\n",
    "                yield token\n",
    "\n",
    "\n",
    "    def on_llm_new_token(self, *args, **kwargs):\n",
    "        \"\"\" Put new token into the queue. \"\"\"\n",
    "        chunk = kwargs.get(\"chunk\")\n",
    "        if chunk and getattr(chunk, \"tool_calls\", None):\n",
    "            tool = chunk.tool_calls[0]\n",
    "            if tool.get(\"name\") == \"final_answer\":\n",
    "                self.final_answer_seen = True\n",
    "        self.queue.put_nowait(chunk)\n",
    "\n",
    "    def on_llm_end(self, *args, **kwargs):\n",
    "        # add <<DONE>> token to the queue if final answer seen\n",
    "        if self.final_answer_seen:\n",
    "            self.queue.put_nowait(\"<<DONE>>\")\n",
    "        else:\n",
    "            self.queue.put_nowait(\"<<STEP END>>\")"
   ]
  },
  {
   "cell_type": "code",
   "execution_count": 57,
   "id": "5599b555",
   "metadata": {},
   "outputs": [
    {
     "name": "stdout",
     "output_type": "stream",
     "text": [
      "{'chunk': ChatGenerationChunk(generation_info={'finish_reason': 'STOP', 'model_name': 'gemini-2.0-flash', 'safety_ratings': []}, message=AIMessageChunk(content='', additional_kwargs={'function_call': {'name': 'execute_query', 'arguments': '{\"sql_query\": \"SELECT A.Title, AR.Name FROM Album A INNER JOIN Artist AR ON A.ArtistId = AR.ArtistId LIMIT 5\"}'}}, response_metadata={'finish_reason': 'STOP', 'model_name': 'gemini-2.0-flash', 'safety_ratings': []}, id='run--5d8e3d02-0fc5-4afc-9190-1baf1fed5e84', tool_calls=[{'name': 'execute_query', 'args': {'sql_query': 'SELECT A.Title, AR.Name FROM Album A INNER JOIN Artist AR ON A.ArtistId = AR.ArtistId LIMIT 5'}, 'id': 'dbfd545d-3951-4a49-a058-bba171e0052f', 'type': 'tool_call'}], usage_metadata={'input_tokens': 2773, 'output_tokens': 34, 'total_tokens': 2807, 'input_token_details': {'cache_read': 0}}, tool_call_chunks=[{'name': 'execute_query', 'args': '{\"sql_query\": \"SELECT A.Title, AR.Name FROM Album A INNER JOIN Artist AR ON A.ArtistId = AR.ArtistId LIMIT 5\"}', 'id': 'dbfd545d-3951-4a49-a058-bba171e0052f', 'index': None, 'type': 'tool_call_chunk'}])), 'run_id': UUID('5d8e3d02-0fc5-4afc-9190-1baf1fed5e84'), 'parent_run_id': UUID('5334476c-f783-4632-a854-cd60825c1da0'), 'tags': ['seq:step:3']}\n",
      "iteration:1\n",
      "content='' additional_kwargs={'function_call': {'name': 'execute_query', 'arguments': '{\"sql_query\": \"SELECT A.Title, AR.Name FROM Album A INNER JOIN Artist AR ON A.ArtistId = AR.ArtistId LIMIT 5\"}'}} response_metadata={'finish_reason': 'STOP', 'model_name': 'gemini-2.0-flash', 'safety_ratings': []} id='run--5d8e3d02-0fc5-4afc-9190-1baf1fed5e84' tool_calls=[{'name': 'execute_query', 'args': {'sql_query': 'SELECT A.Title, AR.Name FROM Album A INNER JOIN Artist AR ON A.ArtistId = AR.ArtistId LIMIT 5'}, 'id': 'dbfd545d-3951-4a49-a058-bba171e0052f', 'type': 'tool_call'}] usage_metadata={'input_tokens': 2773, 'output_tokens': 34, 'total_tokens': 2807, 'input_token_details': {'cache_read': 0}} tool_call_chunks=[{'name': 'execute_query', 'args': '{\"sql_query\": \"SELECT A.Title, AR.Name FROM Album A INNER JOIN Artist AR ON A.ArtistId = AR.ArtistId LIMIT 5\"}', 'id': 'dbfd545d-3951-4a49-a058-bba171e0052f', 'index': None, 'type': 'tool_call_chunk'}]\n"
     ]
    }
   ],
   "source": [
    "queue = asyncio.Queue()\n",
    "streamer = QueueCallbackHandler(queue)\n",
    "\n",
    "tokens = []\n",
    "iteration = 1\n",
    "\n",
    "async def stream(query: str):\n",
    "    response = agent.with_config(\n",
    "        callbacks=[streamer]\n",
    "    )\n",
    "    async for token in response.astream({\n",
    "        \"database_schema\":table_schema_info,\n",
    "        \"input\": query,\n",
    "        \"chat_history\": [],\n",
    "        \"agent_scratchpad\": []\n",
    "    }):\n",
    "        tokens.append(token)\n",
    "        print(f\"iteration:{iteration}\")\n",
    "        print(token, flush=True)\n",
    "\n",
    "await stream(\"Give me the top 5 albums per artist\")"
   ]
  },
  {
   "cell_type": "markdown",
   "id": "70f6d525",
   "metadata": {},
   "source": [
    "The output is an AIMessageChunk object"
   ]
  },
  {
   "cell_type": "code",
   "execution_count": 56,
   "id": "c29fd8eb",
   "metadata": {},
   "outputs": [
    {
     "name": "stdout",
     "output_type": "stream",
     "text": [
      "[AIMessageChunk(content='', additional_kwargs={'function_call': {'name': 'execute_query', 'arguments': '{\"sql_query\": \"SELECT A.Title, AR.Name FROM Album A INNER JOIN Artist AR ON A.ArtistId = AR.ArtistId LIMIT 5\"}'}}, response_metadata={'finish_reason': 'STOP', 'model_name': 'gemini-2.0-flash', 'safety_ratings': []}, id='run--d5639ad1-6d89-4a7b-9d20-79fbd0091ae0', tool_calls=[{'name': 'execute_query', 'args': {'sql_query': 'SELECT A.Title, AR.Name FROM Album A INNER JOIN Artist AR ON A.ArtistId = AR.ArtistId LIMIT 5'}, 'id': 'd18b39ce-6896-49d6-b60f-bd5afa455867', 'type': 'tool_call'}], usage_metadata={'input_tokens': 2773, 'output_tokens': 34, 'total_tokens': 2807, 'input_token_details': {'cache_read': 0}}, tool_call_chunks=[{'name': 'execute_query', 'args': '{\"sql_query\": \"SELECT A.Title, AR.Name FROM Album A INNER JOIN Artist AR ON A.ArtistId = AR.ArtistId LIMIT 5\"}', 'id': 'd18b39ce-6896-49d6-b60f-bd5afa455867', 'index': None, 'type': 'tool_call_chunk'}])]\n",
      "1\n"
     ]
    }
   ],
   "source": [
    "print(tokens)\n",
    "print(len(tokens))"
   ]
  },
  {
   "cell_type": "markdown",
   "id": "7172ca8f",
   "metadata": {},
   "source": [
    "Just found out that gemini does not support token level streaming, it returns an entire chunk it seems. But logic is right for generally streaming llm token responses. Testing to see if streaming works in general"
   ]
  },
  {
   "cell_type": "code",
   "execution_count": 54,
   "id": "19e442e0",
   "metadata": {},
   "outputs": [
    {
     "name": "stdout",
     "output_type": "stream",
     "text": [
      "The| first five numbers are:\n",
      "\n",
      "1, 2, 3, 4|, 5\n",
      "|"
     ]
    }
   ],
   "source": [
    "async for token in llm.astream(\"list the first 5 numbers\"):\n",
    "    print(token.content, end=\"|\", flush=True)"
   ]
  },
  {
   "cell_type": "markdown",
   "id": "b11290cc",
   "metadata": {},
   "source": [
    "Now, we modify our agent executor to work with streaming"
   ]
  },
  {
   "cell_type": "code",
   "execution_count": null,
   "id": "9bdf9bee",
   "metadata": {},
   "outputs": [],
   "source": [
    "class CustomAgentExecutor:\n",
    "    def __init__(self, max_iterations: int = 5):\n",
    "        self.chat_history: list[BaseMessage] = []\n",
    "        self.max_iterations = max_iterations\n",
    "        self.agent: RunnableSerializable = (\n",
    "            {\n",
    "                \"database_schema\": lambda x: x[\"database_schema\"],\n",
    "                \"input\": lambda x: x[\"input\"],\n",
    "                \"chat_history\": lambda x: x[\"chat_history\"],\n",
    "                \"agent_scratchpad\": lambda x: x[\"agent_scratchpad\"]\n",
    "            }\n",
    "            | prompt\n",
    "            | llm.bind_tools(tools, tool_choice=\"any\")\n",
    "        )\n",
    "\n",
    "    async def invoke(self, database_schema: str, input: str, streamer: QueueCallbackHandler):\n",
    "        count = 0\n",
    "        agent_scratchpad = []\n",
    "        \n",
    "        # stream the llm response\n",
    "        async def stream(query: str) -> list[AIMessage]:\n",
    "            response = self.agent.with_config(\n",
    "                callbacks=[streamer]\n",
    "            )\n",
    "\n",
    "            # to store the streamed AIMessageChunk objects\n",
    "            output = None\n",
    "\n",
    "            async for token in response.astream({\n",
    "                \"database_schema\":database_schema,\n",
    "                \"input\": query,\n",
    "                \"chat_history\": self.chat_history,\n",
    "                \"agent_scratchpad\": []\n",
    "            }):\n",
    "                tool_calls = getattr(token, \"tool_calls\", None)\n",
    "                if tool_calls:\n",
    "                    # check if we have a tool call id, this means a tool call exists\n",
    "                    # for streamed tokens, id=None if tool does not exist\n",
    "                    # if tool_calls[0][\"id\"]:\n",
    "                    #     outputs.append(token)\n",
    "                    # else:\n",
    "                    #     # We can concatenate AIMessageChunk objects\n",
    "                    #     # This combines all streamed AIMessageChunks into one AIMessageChunk object\n",
    "                    #     output[-1] += token\n",
    "                    if output:\n",
    "                        output += token\n",
    "                    else:\n",
    "                        output = token\n",
    "                else:\n",
    "                    pass\n",
    "            # return a single AI message since no more than one tool will be called at once\n",
    "            return AIMessage(\n",
    "                content=output.content,\n",
    "                tool_calls=output.tool_calls\n",
    "            )\n",
    "        found_final_answer = False\n",
    "        while count < self.max_iterations:\n",
    "            tool_call = await stream(query=input)\n",
    "\n",
    "            tool_name = tool_call.tool_calls[0][\"name\"]\n",
    "            tool_args = tool_call.tool_calls[0][\"args\"]\n",
    "\n",
    "            tool_execution_content = tool_func_map[tool_name](**tool_args)\n",
    "\n",
    "            tool_exec = ToolMessage(\n",
    "                content=f\"The {tool_name} tool returned {tool_execution_content}\",\n",
    "                tool_call_id = tool_call.tool_calls[0][\"id\"]\n",
    "            )\n",
    "\n",
    "            # extend the agent scratchpad\n",
    "            agent_scratchpad.extend([tool_call, tool_exec])\n",
    "            count += 1\n",
    "\n",
    "            if tool_name == \"final_answer\":\n",
    "                found_final_answer = True\n",
    "                break\n",
    "\n",
    "        final_answer = tool_args if found_final_answer else {\"answer\":\"No answer found\", \"tools_used\":[]}\n",
    "        self.chat_history.extend([\n",
    "            HumanMessage(content=input),\n",
    "            AIMessage(content=json.dumps(final_answer))\n",
    "        ])\n",
    "        return final_answer"
   ]
  },
  {
   "cell_type": "code",
   "execution_count": 82,
   "id": "4f1e9008",
   "metadata": {},
   "outputs": [
    {
     "name": "stdout",
     "output_type": "stream",
     "text": [
      "{'answer': 'Successfully executed query, returned 304 rows'}\n",
      "SELECT\n",
      "  Album.Title,\n",
      "  COUNT(InvoiceLine.InvoiceId) AS TracksPurchased\n",
      "FROM InvoiceLine\n",
      "JOIN Track\n",
      "  ON Track.TrackId = InvoiceLine.TrackId\n",
      "JOIN Album\n",
      "  ON Album.AlbumId = Track.AlbumId\n",
      "GROUP BY\n",
      "  Album.Title\n",
      "ORDER BY\n",
      "  TracksPurchased DESC;\n",
      "\n",
      "                                      Title  TracksPurchased\n",
      "0                            Minha Historia               27\n",
      "1                             Greatest Hits               26\n",
      "2                                 Unplugged               25\n",
      "3                                  Acústico               22\n",
      "4                             Greatest Kiss               20\n",
      "5                              Prenda Minha               19\n",
      "6  My Generation - The Very Best Of The Who               19\n",
      "7                         Chronicle, Vol. 2               19\n",
      "8                   International Superhits               18\n",
      "9                         Chronicle, Vol. 1               18\n"
     ]
    }
   ],
   "source": [
    "queue = asyncio.Queue()\n",
    "streamer = QueueCallbackHandler(queue)\n",
    "\n",
    "agent_executor = CustomAgentExecutor()\n",
    "output = await agent_executor.invoke(table_schema_info, \"which albums were listened to the most by customers\", streamer)\n",
    "print(output)\n",
    "\n",
    "if output[\"answer\"] != \"No answer found\":\n",
    "    print(result_query)\n",
    "    print(result_df)"
   ]
  },
  {
   "cell_type": "code",
   "execution_count": null,
   "id": "49f00e1d",
   "metadata": {},
   "outputs": [],
   "source": []
  },
  {
   "cell_type": "code",
   "execution_count": null,
   "id": "cb436938",
   "metadata": {},
   "outputs": [],
   "source": []
  }
 ],
 "metadata": {
  "kernelspec": {
   "display_name": "Python 3",
   "language": "python",
   "name": "python3"
  },
  "language_info": {
   "codemirror_mode": {
    "name": "ipython",
    "version": 3
   },
   "file_extension": ".py",
   "mimetype": "text/x-python",
   "name": "python",
   "nbconvert_exporter": "python",
   "pygments_lexer": "ipython3",
   "version": "3.12.3"
  }
 },
 "nbformat": 4,
 "nbformat_minor": 5
}
